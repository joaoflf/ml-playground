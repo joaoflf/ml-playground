{
  "nbformat": 4,
  "nbformat_minor": 0,
  "metadata": {
    "colab": {
      "name": "kaggle-titanic.ipynb",
      "version": "0.3.2",
      "provenance": [],
      "collapsed_sections": []
    },
    "kernelspec": {
      "name": "python3",
      "display_name": "Python 3"
    },
    "accelerator": "GPU"
  },
  "cells": [
    {
      "cell_type": "markdown",
      "metadata": {
        "id": "view-in-github",
        "colab_type": "text"
      },
      "source": [
        "[View in Colaboratory](https://colab.research.google.com/github/joaoflf/ml-playground/blob/master/kaggle_titanic.ipynb)"
      ]
    },
    {
      "metadata": {
        "id": "W04ylAJxRf-o",
        "colab_type": "text"
      },
      "cell_type": "markdown",
      "source": [
        "## Titanic Kaggle Competition\n",
        "\n",
        "My attempt of this competition using deep neural networks.\n",
        "\n",
        "---\n",
        "Start by importing and setting up Tensorboard"
      ]
    },
    {
      "metadata": {
        "id": "QO5mZeGzROp9",
        "colab_type": "code",
        "colab": {
          "base_uri": "https://localhost:8080/",
          "height": 85
        },
        "outputId": "43ad7f83-79ec-42ab-8168-7139e667e945"
      },
      "cell_type": "code",
      "source": [
        "import os\n",
        "if not os.path.exists('./colab_utils'):\n",
        "  !git clone https://github.com/mixuala/colab_utils.git\n",
        "    \n",
        "import colab_utils.tboard\n",
        "import tensorflow as tf\n",
        "import pandas as pd\n",
        "import numpy as np\n",
        "import matplotlib.pyplot as plt\n",
        "from datetime import datetime\n",
        "\n",
        "now = datetime.utcnow().strftime('%Y%m%d%H%M%S')\n",
        "ROOT = %pwd\n",
        "root_log_dir = os.path.join(ROOT, 'tf_logs')\n",
        "colab_utils.tboard.launch_tensorboard( bin_dir=ROOT, log_dir=root_log_dir )"
      ],
      "execution_count": 121,
      "outputs": [
        {
          "output_type": "stream",
          "text": [
            "ngrok installed\n",
            "status: tensorboard=True, ngrok=True\n",
            "tensorboard url= https://7519ec10.ngrok.io\n"
          ],
          "name": "stdout"
        },
        {
          "output_type": "execute_result",
          "data": {
            "text/plain": [
              "'https://7519ec10.ngrok.io'"
            ]
          },
          "metadata": {
            "tags": []
          },
          "execution_count": 121
        }
      ]
    },
    {
      "metadata": {
        "id": "HwqIhmLQTNvF",
        "colab_type": "text"
      },
      "cell_type": "markdown",
      "source": [
        "Download and extract train and test csv files and load them into Pandas data frame\n",
        "\n"
      ]
    },
    {
      "metadata": {
        "id": "1wzKErIBTRxl",
        "colab_type": "code",
        "colab": {
          "base_uri": "https://localhost:8080/",
          "height": 581
        },
        "outputId": "780e8a61-40a2-45a8-ee2d-d30b494f7764"
      },
      "cell_type": "code",
      "source": [
        "!rm -rf data\n",
        "if not os.path.exists('./data'):\n",
        "  !mkdir data\n",
        "  !wget -O ./data/train.csv https://www.dropbox.com/s/47sadlv7emve5i4/train.csv?raw=1\n",
        "  !wget -O ./data/test.csv https://www.dropbox.com/s/p4l8elh79agtyvw/test.csv?raw=1\n",
        "\n"
      ],
      "execution_count": 122,
      "outputs": [
        {
          "output_type": "stream",
          "text": [
            "--2018-06-13 16:50:46--  https://www.dropbox.com/s/47sadlv7emve5i4/train.csv?raw=1\n",
            "Resolving www.dropbox.com (www.dropbox.com)... 162.125.9.1, 2620:100:6022:1::a27d:4201\n",
            "Connecting to www.dropbox.com (www.dropbox.com)|162.125.9.1|:443... connected.\n",
            "HTTP request sent, awaiting response... 302 Found\n",
            "Location: https://uc91865dd074b60d7c675b9cae49.dl.dropboxusercontent.com/cd/0/inline/AIxi72Yo1lV8OogZktoxaG-dPtN7p88iob8z-79rZFmQoT-brMGEQckNXikZxSWz_e7hcpU1QiCbDwHqXh7n4oHaK6EMH8KLXkDGoeSvO83oIqWDsDxKpK3CWV7jwkEM0Uhk_8166BiiZ4xPx5bYgh8AthTbYO6P6q5Fi37z2ivhZatftPFYPMKACIPxEJT9Y8o/file [following]\n",
            "--2018-06-13 16:50:47--  https://uc91865dd074b60d7c675b9cae49.dl.dropboxusercontent.com/cd/0/inline/AIxi72Yo1lV8OogZktoxaG-dPtN7p88iob8z-79rZFmQoT-brMGEQckNXikZxSWz_e7hcpU1QiCbDwHqXh7n4oHaK6EMH8KLXkDGoeSvO83oIqWDsDxKpK3CWV7jwkEM0Uhk_8166BiiZ4xPx5bYgh8AthTbYO6P6q5Fi37z2ivhZatftPFYPMKACIPxEJT9Y8o/file\n",
            "Resolving uc91865dd074b60d7c675b9cae49.dl.dropboxusercontent.com (uc91865dd074b60d7c675b9cae49.dl.dropboxusercontent.com)... 162.125.9.6, 2620:100:601f:6::a27d:906\n",
            "Connecting to uc91865dd074b60d7c675b9cae49.dl.dropboxusercontent.com (uc91865dd074b60d7c675b9cae49.dl.dropboxusercontent.com)|162.125.9.6|:443... connected.\n",
            "HTTP request sent, awaiting response... 200 OK\n",
            "Length: 61194 (60K) [text/plain]\n",
            "Saving to: ‘./data/train.csv’\n",
            "\n",
            "./data/train.csv    100%[===================>]  59.76K  --.-KB/s    in 0.04s   \n",
            "\n",
            "2018-06-13 16:50:47 (1.66 MB/s) - ‘./data/train.csv’ saved [61194/61194]\n",
            "\n",
            "--2018-06-13 16:50:48--  https://www.dropbox.com/s/p4l8elh79agtyvw/test.csv?raw=1\n",
            "Resolving www.dropbox.com (www.dropbox.com)... 162.125.9.1, 2620:100:6022:1::a27d:4201\n",
            "Connecting to www.dropbox.com (www.dropbox.com)|162.125.9.1|:443... connected.\n",
            "HTTP request sent, awaiting response... 302 Found\n",
            "Location: https://uc7d2f3fc88f9cbe0f638fd87851.dl.dropboxusercontent.com/cd/0/inline/AIwOb-r6rJBnmQOn3FVad7vkvEQyweZfYHP_lx_1vqaQo8SRgc4CICJPpxwodA3Q_ZYjFILuJA7Hr2dHc6DAn4UPfSAOUqXnDvsD1EcrGh9x6KUCfaQrUj0G6H0DUdVoV42dW9BRGT29Tzot9hbQ1mOukAp0Lzs52V2TKJ47Mjswc_NuKSmz0UwKTndukZXiL_Y/file [following]\n",
            "--2018-06-13 16:50:49--  https://uc7d2f3fc88f9cbe0f638fd87851.dl.dropboxusercontent.com/cd/0/inline/AIwOb-r6rJBnmQOn3FVad7vkvEQyweZfYHP_lx_1vqaQo8SRgc4CICJPpxwodA3Q_ZYjFILuJA7Hr2dHc6DAn4UPfSAOUqXnDvsD1EcrGh9x6KUCfaQrUj0G6H0DUdVoV42dW9BRGT29Tzot9hbQ1mOukAp0Lzs52V2TKJ47Mjswc_NuKSmz0UwKTndukZXiL_Y/file\n",
            "Resolving uc7d2f3fc88f9cbe0f638fd87851.dl.dropboxusercontent.com (uc7d2f3fc88f9cbe0f638fd87851.dl.dropboxusercontent.com)... 162.125.9.6, 2620:100:6022:6::a27d:4206\n",
            "Connecting to uc7d2f3fc88f9cbe0f638fd87851.dl.dropboxusercontent.com (uc7d2f3fc88f9cbe0f638fd87851.dl.dropboxusercontent.com)|162.125.9.6|:443... connected.\n",
            "HTTP request sent, awaiting response... 200 OK\n",
            "Length: 28629 (28K) [text/plain]\n",
            "Saving to: ‘./data/test.csv’\n",
            "\n",
            "./data/test.csv     100%[===================>]  27.96K  --.-KB/s    in 0.02s   \n",
            "\n",
            "2018-06-13 16:50:50 (1.55 MB/s) - ‘./data/test.csv’ saved [28629/28629]\n",
            "\n"
          ],
          "name": "stdout"
        }
      ]
    },
    {
      "metadata": {
        "id": "q0bIpyksZwbD",
        "colab_type": "text"
      },
      "cell_type": "markdown",
      "source": [
        "Load and inspect dataset"
      ]
    },
    {
      "metadata": {
        "id": "zqeV9KXcZshF",
        "colab_type": "code",
        "colab": {
          "base_uri": "https://localhost:8080/",
          "height": 34
        },
        "outputId": "e44a17d8-e711-4300-993f-c5320ad8bd47"
      },
      "cell_type": "code",
      "source": [
        "train_set = pd.read_csv('./data/train.csv')\n",
        "test_set = pd.read_csv('./data/test.csv')\n",
        "train_set.reindex(np.random.permutation(train_set.index))\n",
        "cv_set = train_set[700:]\n",
        "#train_set= train_set[:700]\n",
        "cv_set.values.shape"
      ],
      "execution_count": 123,
      "outputs": [
        {
          "output_type": "execute_result",
          "data": {
            "text/plain": [
              "(191, 12)"
            ]
          },
          "metadata": {
            "tags": []
          },
          "execution_count": 123
        }
      ]
    },
    {
      "metadata": {
        "id": "rU5kmAOtZDb3",
        "colab_type": "text"
      },
      "cell_type": "markdown",
      "source": [
        "Explore relationship between class and survival"
      ]
    },
    {
      "metadata": {
        "id": "8nWMpZNaTk-6",
        "colab_type": "code",
        "colab": {
          "base_uri": "https://localhost:8080/",
          "height": 357
        },
        "outputId": "1a715c6e-85f7-4bdd-b95c-f5b967bc3b1b"
      },
      "cell_type": "code",
      "source": [
        "class_pivot = train_set.pivot_table(index=\"Pclass\",values=\"Survived\")\n",
        "class_pivot.plot.bar()\n",
        "plt.show()"
      ],
      "execution_count": 124,
      "outputs": [
        {
          "output_type": "display_data",
          "data": {
            "image/png": "[encoded data removed]",
            "text/plain": [
              "<matplotlib.figure.Figure at 0x7efed62e08d0>"
            ]
          },
          "metadata": {
            "tags": []
          }
        }
      ]
    },
    {
      "metadata": {
        "id": "9DGzB3TmZfa_",
        "colab_type": "text"
      },
      "cell_type": "markdown",
      "source": [
        "Explore relationship between sex and survival"
      ]
    },
    {
      "metadata": {
        "id": "CuRIaaCoT_uW",
        "colab_type": "code",
        "colab": {
          "base_uri": "https://localhost:8080/",
          "height": 381
        },
        "outputId": "39f942e1-8cca-4e65-bfea-c5552f2b4ec6"
      },
      "cell_type": "code",
      "source": [
        "class_pivot = train_set.pivot_table(index=\"Sex\",values=\"Survived\")\n",
        "class_pivot.plot.bar()\n",
        "plt.show()"
      ],
      "execution_count": 125,
      "outputs": [
        {
          "output_type": "display_data",
          "data": {
            "image/png": "[encoded data removed]",
            "text/plain": [
              "<matplotlib.figure.Figure at 0x7efed62f6550>"
            ]
          },
          "metadata": {
            "tags": []
          }
        }
      ]
    },
    {
      "metadata": {
        "id": "2FPuN3AwaCI8",
        "colab_type": "text"
      },
      "cell_type": "markdown",
      "source": [
        "Explore relationship between port embarked and survival"
      ]
    },
    {
      "metadata": {
        "id": "3HTTyyWEaIY0",
        "colab_type": "code",
        "colab": {
          "base_uri": "https://localhost:8080/",
          "height": 357
        },
        "outputId": "7a65c56e-7cd9-45c9-a186-aaeafcb4022e"
      },
      "cell_type": "code",
      "source": [
        "class_pivot = train_set.pivot_table(index=\"Parch\",values=\"Survived\")\n",
        "class_pivot.plot.bar()\n",
        "plt.show()"
      ],
      "execution_count": 126,
      "outputs": [
        {
          "output_type": "display_data",
          "data": {
            "image/png": "[encoded data removed]",
            "text/plain": [
              "<matplotlib.figure.Figure at 0x7efed55938d0>"
            ]
          },
          "metadata": {
            "tags": []
          }
        }
      ]
    },
    {
      "metadata": {
        "id": "GvRaIIV4akjr",
        "colab_type": "text"
      },
      "cell_type": "markdown",
      "source": [
        "Group ages into brackets and see their relationship with survival"
      ]
    },
    {
      "metadata": {
        "id": "gnKJVmBpajwN",
        "colab_type": "code",
        "colab": {
          "base_uri": "https://localhost:8080/",
          "height": 1019
        },
        "outputId": "06fc8bec-5bd5-46ee-e62c-613bafc6e680"
      },
      "cell_type": "code",
      "source": [
        "def group_feature_values(df,feature,cut_points,label_names):\n",
        "    df[feature] = df[feature].fillna(-0.5)\n",
        "    df[feature+'_categories'] = pd.cut(df[feature],cut_points,labels=label_names)\n",
        "    return df\n",
        "\n",
        "\n",
        "cut_points = [-1,0,5,18,60,100]\n",
        "label_names = [\"Missing\",\"Infant\",\"Child\",\"Adult\",\"Senior\"]\n",
        "\n",
        "train = group_feature_values(train_set,'Age' ,cut_points,label_names)\n",
        "cv = group_feature_values(cv_set, 'Age',cut_points,label_names)\n",
        "test = group_feature_values(test_set, 'Age',cut_points,label_names)\n",
        "\n",
        "pivot = train.pivot_table(index=\"Age_categories\",values='Survived')\n",
        "pivot.plot.bar()\n",
        "plt.show()\n",
        "\n",
        "train['SibSp'].fillna(0)\n",
        "train['Parch'].fillna(0)\n",
        "train['FamilySize'] = train['SibSp'] + train['Parch']\n",
        "cv['SibSp'].fillna(0)\n",
        "cv['Parch'].fillna(0)\n",
        "cv['FamilySize'] = cv['SibSp'] + cv['Parch']\n",
        "test['SibSp'].fillna(0)\n",
        "test['Parch'].fillna(0)\n",
        "test['FamilySize'] = test['SibSp'] + test['Parch']\n",
        "\n",
        "\n",
        "pivot = train.pivot_table(index=\"FamilySize\",values='Survived')\n",
        "pivot.plot.bar()\n",
        "plt.show()\n"
      ],
      "execution_count": 127,
      "outputs": [
        {
          "output_type": "stream",
          "text": [
            "/usr/local/lib/python3.6/dist-packages/ipykernel_launcher.py:2: SettingWithCopyWarning: \n",
            "A value is trying to be set on a copy of a slice from a DataFrame.\n",
            "Try using .loc[row_indexer,col_indexer] = value instead\n",
            "\n",
            "See the caveats in the documentation: http://pandas.pydata.org/pandas-docs/stable/indexing.html#indexing-view-versus-copy\n",
            "  \n",
            "/usr/local/lib/python3.6/dist-packages/ipykernel_launcher.py:3: SettingWithCopyWarning: \n",
            "A value is trying to be set on a copy of a slice from a DataFrame.\n",
            "Try using .loc[row_indexer,col_indexer] = value instead\n",
            "\n",
            "See the caveats in the documentation: http://pandas.pydata.org/pandas-docs/stable/indexing.html#indexing-view-versus-copy\n",
            "  This is separate from the ipykernel package so we can avoid doing imports until\n"
          ],
          "name": "stderr"
        },
        {
          "output_type": "display_data",
          "data": {
            "image/png": "[encoded data removed]",
            "text/plain": [
              "<matplotlib.figure.Figure at 0x7efed622cf28>"
            ]
          },
          "metadata": {
            "tags": []
          }
        },
        {
          "output_type": "stream",
          "text": [
            "/usr/local/lib/python3.6/dist-packages/ipykernel_launcher.py:23: SettingWithCopyWarning: \n",
            "A value is trying to be set on a copy of a slice from a DataFrame.\n",
            "Try using .loc[row_indexer,col_indexer] = value instead\n",
            "\n",
            "See the caveats in the documentation: http://pandas.pydata.org/pandas-docs/stable/indexing.html#indexing-view-versus-copy\n"
          ],
          "name": "stderr"
        },
        {
          "output_type": "display_data",
          "data": {
            "image/png": "[encoded data removed]",
            "text/plain": [
              "<matplotlib.figure.Figure at 0x7efed61dcf98>"
            ]
          },
          "metadata": {
            "tags": []
          }
        }
      ]
    },
    {
      "metadata": {
        "id": "COTcFaP7dGPe",
        "colab_type": "text"
      },
      "cell_type": "markdown",
      "source": [
        "One-hot encode relevant features"
      ]
    },
    {
      "metadata": {
        "id": "Q6YQLjZfdJUb",
        "colab_type": "code",
        "colab": {
          "base_uri": "https://localhost:8080/",
          "height": 474
        },
        "outputId": "e920524f-e1b4-43ee-8580-6e6362979c61"
      },
      "cell_type": "code",
      "source": [
        "for each in ['Age_categories', 'Sex', 'Pclass', 'Embarked'] :\n",
        "  dummies = pd.get_dummies(train[each], prefix=each, drop_first=False)\n",
        "  train = pd.concat([train, dummies], axis=1)\n",
        "  dummies = pd.get_dummies(cv[each], prefix=each, drop_first=False)\n",
        "  cv = pd.concat([cv, dummies], axis=1)\n",
        "  dummies = pd.get_dummies(test[each], prefix=each, drop_first=False)\n",
        "  test = pd.concat([test, dummies], axis=1)\n",
        "\n",
        "train.tail()"
      ],
      "execution_count": 128,
      "outputs": [
        {
          "output_type": "execute_result",
          "data": {
            "text/html": [
              "<div>\n",
              "<style scoped>\n",
              "    .dataframe tbody tr th:only-of-type {\n",
              "        vertical-align: middle;\n",
              "    }\n",
              "\n",
              "    .dataframe tbody tr th {\n",
              "        vertical-align: top;\n",
              "    }\n",
              "\n",
              "    .dataframe thead th {\n",
              "        text-align: right;\n",
              "    }\n",
              "</style>\n",
              "<table border=\"1\" class=\"dataframe\">\n",
              "  <thead>\n",
              "    <tr style=\"text-align: right;\">\n",
              "      <th></th>\n",
              "      <th>PassengerId</th>\n",
              "      <th>Survived</th>\n",
              "      <th>Pclass</th>\n",
              "      <th>Name</th>\n",
              "      <th>Sex</th>\n",
              "      <th>Age</th>\n",
              "      <th>SibSp</th>\n",
              "      <th>Parch</th>\n",
              "      <th>Ticket</th>\n",
              "      <th>Fare</th>\n",
              "      <th>...</th>\n",
              "      <th>Age_categories_Adult</th>\n",
              "      <th>Age_categories_Senior</th>\n",
              "      <th>Sex_female</th>\n",
              "      <th>Sex_male</th>\n",
              "      <th>Pclass_1</th>\n",
              "      <th>Pclass_2</th>\n",
              "      <th>Pclass_3</th>\n",
              "      <th>Embarked_C</th>\n",
              "      <th>Embarked_Q</th>\n",
              "      <th>Embarked_S</th>\n",
              "    </tr>\n",
              "  </thead>\n",
              "  <tbody>\n",
              "    <tr>\n",
              "      <th>886</th>\n",
              "      <td>887</td>\n",
              "      <td>0</td>\n",
              "      <td>2</td>\n",
              "      <td>Montvila, Rev. Juozas</td>\n",
              "      <td>male</td>\n",
              "      <td>27.0</td>\n",
              "      <td>0</td>\n",
              "      <td>0</td>\n",
              "      <td>211536</td>\n",
              "      <td>13.00</td>\n",
              "      <td>...</td>\n",
              "      <td>1</td>\n",
              "      <td>0</td>\n",
              "      <td>0</td>\n",
              "      <td>1</td>\n",
              "      <td>0</td>\n",
              "      <td>1</td>\n",
              "      <td>0</td>\n",
              "      <td>0</td>\n",
              "      <td>0</td>\n",
              "      <td>1</td>\n",
              "    </tr>\n",
              "    <tr>\n",
              "      <th>887</th>\n",
              "      <td>888</td>\n",
              "      <td>1</td>\n",
              "      <td>1</td>\n",
              "      <td>Graham, Miss. Margaret Edith</td>\n",
              "      <td>female</td>\n",
              "      <td>19.0</td>\n",
              "      <td>0</td>\n",
              "      <td>0</td>\n",
              "      <td>112053</td>\n",
              "      <td>30.00</td>\n",
              "      <td>...</td>\n",
              "      <td>1</td>\n",
              "      <td>0</td>\n",
              "      <td>1</td>\n",
              "      <td>0</td>\n",
              "      <td>1</td>\n",
              "      <td>0</td>\n",
              "      <td>0</td>\n",
              "      <td>0</td>\n",
              "      <td>0</td>\n",
              "      <td>1</td>\n",
              "    </tr>\n",
              "    <tr>\n",
              "      <th>888</th>\n",
              "      <td>889</td>\n",
              "      <td>0</td>\n",
              "      <td>3</td>\n",
              "      <td>Johnston, Miss. Catherine Helen \"Carrie\"</td>\n",
              "      <td>female</td>\n",
              "      <td>-0.5</td>\n",
              "      <td>1</td>\n",
              "      <td>2</td>\n",
              "      <td>W./C. 6607</td>\n",
              "      <td>23.45</td>\n",
              "      <td>...</td>\n",
              "      <td>0</td>\n",
              "      <td>0</td>\n",
              "      <td>1</td>\n",
              "      <td>0</td>\n",
              "      <td>0</td>\n",
              "      <td>0</td>\n",
              "      <td>1</td>\n",
              "      <td>0</td>\n",
              "      <td>0</td>\n",
              "      <td>1</td>\n",
              "    </tr>\n",
              "    <tr>\n",
              "      <th>889</th>\n",
              "      <td>890</td>\n",
              "      <td>1</td>\n",
              "      <td>1</td>\n",
              "      <td>Behr, Mr. Karl Howell</td>\n",
              "      <td>male</td>\n",
              "      <td>26.0</td>\n",
              "      <td>0</td>\n",
              "      <td>0</td>\n",
              "      <td>111369</td>\n",
              "      <td>30.00</td>\n",
              "      <td>...</td>\n",
              "      <td>1</td>\n",
              "      <td>0</td>\n",
              "      <td>0</td>\n",
              "      <td>1</td>\n",
              "      <td>1</td>\n",
              "      <td>0</td>\n",
              "      <td>0</td>\n",
              "      <td>1</td>\n",
              "      <td>0</td>\n",
              "      <td>0</td>\n",
              "    </tr>\n",
              "    <tr>\n",
              "      <th>890</th>\n",
              "      <td>891</td>\n",
              "      <td>0</td>\n",
              "      <td>3</td>\n",
              "      <td>Dooley, Mr. Patrick</td>\n",
              "      <td>male</td>\n",
              "      <td>32.0</td>\n",
              "      <td>0</td>\n",
              "      <td>0</td>\n",
              "      <td>370376</td>\n",
              "      <td>7.75</td>\n",
              "      <td>...</td>\n",
              "      <td>1</td>\n",
              "      <td>0</td>\n",
              "      <td>0</td>\n",
              "      <td>1</td>\n",
              "      <td>0</td>\n",
              "      <td>0</td>\n",
              "      <td>1</td>\n",
              "      <td>0</td>\n",
              "      <td>1</td>\n",
              "      <td>0</td>\n",
              "    </tr>\n",
              "  </tbody>\n",
              "</table>\n",
              "<p>5 rows × 27 columns</p>\n",
              "</div>"
            ],
            "text/plain": [
              "     PassengerId  Survived  Pclass                                      Name  \\\n",
              "886          887         0       2                     Montvila, Rev. Juozas   \n",
              "887          888         1       1              Graham, Miss. Margaret Edith   \n",
              "888          889         0       3  Johnston, Miss. Catherine Helen \"Carrie\"   \n",
              "889          890         1       1                     Behr, Mr. Karl Howell   \n",
              "890          891         0       3                       Dooley, Mr. Patrick   \n",
              "\n",
              "        Sex   Age  SibSp  Parch      Ticket   Fare     ...      \\\n",
              "886    male  27.0      0      0      211536  13.00     ...       \n",
              "887  female  19.0      0      0      112053  30.00     ...       \n",
              "888  female  -0.5      1      2  W./C. 6607  23.45     ...       \n",
              "889    male  26.0      0      0      111369  30.00     ...       \n",
              "890    male  32.0      0      0      370376   7.75     ...       \n",
              "\n",
              "    Age_categories_Adult Age_categories_Senior Sex_female  Sex_male  Pclass_1  \\\n",
              "886                    1                     0          0         1         0   \n",
              "887                    1                     0          1         0         1   \n",
              "888                    0                     0          1         0         0   \n",
              "889                    1                     0          0         1         1   \n",
              "890                    1                     0          0         1         0   \n",
              "\n",
              "     Pclass_2  Pclass_3  Embarked_C  Embarked_Q  Embarked_S  \n",
              "886         1         0           0           0           1  \n",
              "887         0         0           0           0           1  \n",
              "888         0         1           0           0           1  \n",
              "889         0         0           1           0           0  \n",
              "890         0         1           0           1           0  \n",
              "\n",
              "[5 rows x 27 columns]"
            ]
          },
          "metadata": {
            "tags": []
          },
          "execution_count": 128
        }
      ]
    },
    {
      "metadata": {
        "id": "0QkahPw2dwb6",
        "colab_type": "text"
      },
      "cell_type": "markdown",
      "source": [
        "Build neural network model"
      ]
    },
    {
      "metadata": {
        "id": "bmUDIGDidyPf",
        "colab_type": "code",
        "colab": {}
      },
      "cell_type": "code",
      "source": [
        "tf.reset_default_graph()\n",
        "\n",
        "learning_rate = 0.0001\n",
        "momentum = 0.95\n",
        "\n",
        "X = tf.placeholder(tf.float32, shape= [None, 11])\n",
        "y = tf.placeholder(tf.int32, shape= [None, 1])\n",
        "\n",
        "he_init = tf.contrib.layers.variance_scaling_initializer()\n",
        "regularizer = tf.contrib.layers.l2_regularizer(scale=0.1)\n",
        "training = tf.placeholder_with_default(False, shape=(), name='training')\n",
        "dropout_rate = 0.3\n",
        "\n",
        "dense_1 = tf.layers.dropout(tf.contrib.layers.batch_norm(tf.layers.dense(X, 100, activation=tf.nn.relu, kernel_initializer=he_init, kernel_regularizer=regularizer, name='dense_1')),dropout_rate, training=training)\n",
        "dense_2 = tf.layers.dropout(tf.contrib.layers.batch_norm(tf.layers.dense(dense_1, 100, activation=tf.nn.relu, kernel_initializer=he_init,  kernel_regularizer=regularizer, name='dense_2')),dropout_rate, training=training)\n",
        "dense_3 = tf.layers.dropout(tf.contrib.layers.batch_norm(tf.layers.dense(dense_2, 50, activation=tf.nn.relu, kernel_initializer=he_init,  kernel_regularizer=regularizer, name='dense_3')),dropout_rate, training=training)\n",
        "dense_4 = tf.layers.dropout(tf.contrib.layers.batch_norm(tf.layers.dense(dense_3, 10, activation=tf.nn.relu, kernel_initializer=he_init,  kernel_regularizer=regularizer, name='dense_4')),dropout_rate, training=training)\n",
        "\n",
        "\n",
        "logits = tf.layers.dense(dense_2, 1, name='logits', kernel_initializer=he_init)\n",
        "\n",
        "y_prob = tf.nn.sigmoid(logits)\n",
        "y_pred = tf.cast(tf.greater_equal(logits, 0), tf.int32)\n",
        "\n",
        "with tf.name_scope('loss'):\n",
        "  y_as_float = tf.cast(y, tf.float32)\n",
        "  xentropy = tf.nn.sigmoid_cross_entropy_with_logits(labels=y_as_float, logits=logits)\n",
        "  loss = tf.reduce_mean(xentropy, name='loss')\n",
        "\n",
        "with tf.name_scope('train'):\n",
        "  optimizer = tf.train.AdamOptimizer(learning_rate)\n",
        "  training_op = optimizer.minimize(loss)\n",
        "\n",
        "with tf.name_scope('eval'):\n",
        "  y_pred_correct = tf.equal(y_pred, y)\n",
        "  accuracy = tf.reduce_mean(tf.cast(y_pred_correct, tf.float32), name='accuracy')\n",
        "\n",
        "\n",
        "loss_summary = tf.summary.scalar('Loss', loss)\n",
        "init = tf.global_variables_initializer()\n",
        "saver = tf.train.Saver()"
      ],
      "execution_count": 0,
      "outputs": []
    },
    {
      "metadata": {
        "id": "cqEAexXRhGZu",
        "colab_type": "text"
      },
      "cell_type": "markdown",
      "source": [
        "Train Model"
      ]
    },
    {
      "metadata": {
        "id": "5CP64AJ7grs8",
        "colab_type": "code",
        "colab": {
          "base_uri": "https://localhost:8080/",
          "height": 221
        },
        "outputId": "8d2be1c5-adef-4970-b897-728a5b4cd312"
      },
      "cell_type": "code",
      "source": [
        "import time\n",
        "now = datetime.utcnow().strftime(\"%Y%m%d%H%M%S\")\n",
        "logdir = \"{}/run-{}/\".format(root_log_dir, now)\n",
        "file_writer = tf.summary.FileWriter(logdir, tf.get_default_graph())\n",
        "\n",
        "n_epochs = 10000\n",
        "batch_step = 0\n",
        "important_features = ['Age_categories_Missing', 'Age_categories_Infant', 'Age_categories_Child', 'Age_categories_Adult',\t'Age_categories_Senior', 'Sex_female', 'Sex_male', 'Pclass_1', 'Pclass_2', 'Pclass_3', 'FamilySize']\n",
        "start_time = time.time()\n",
        "\n",
        "with tf.Session() as sess:\n",
        "  init.run()\n",
        "  \n",
        "  for epoch in range(n_epochs):\n",
        "    X_batch, y_batch = train[important_features].values, train['Survived'].values.reshape([891,1])\n",
        "    sess.run(training_op, feed_dict={X: X_batch, y: y_batch})\n",
        "    summary_str, acc_train, loss_str = sess.run([loss_summary, accuracy, loss], feed_dict={X: X_batch, y: y_batch, training:True})\n",
        "    file_writer.add_summary(summary_str,batch_step)\n",
        "    \n",
        "    batch_step+=1\n",
        "    if epoch % 1000 == 0:\n",
        "      print(epoch, \"Train accuracy:\", acc_train, 'Loss:', loss_str)\n",
        "\n",
        "      \n",
        "  X_batch, y_batch = cv[important_features].values, cv['Survived'].values.reshape([191,1])\n",
        "  \n",
        "  acc_test = accuracy.eval(feed_dict={X: X_batch, y: y_batch})\n",
        "  print(\"CV accuracy:\", acc_test)\n",
        "  \n",
        "  X_batch = test[important_features].values\n",
        "  prediction = sess.run([y_pred], feed_dict={X: X_batch, training:False})\n",
        " \n",
        "  \n",
        "  file_writer.close()\n",
        "  sess.close()\n",
        "  print(\"--- %s seconds ---\" % (time.time() - start_time))"
      ],
      "execution_count": 136,
      "outputs": [
        {
          "output_type": "stream",
          "text": [
            "0 Train accuracy: 0.4130191 Loss: 1.2059299\n",
            "1000 Train accuracy: 0.681257 Loss: 0.7034301\n",
            "2000 Train accuracy: 0.67227834 Loss: 0.73459226\n",
            "3000 Train accuracy: 0.6958474 Loss: 0.75251883\n",
            "4000 Train accuracy: 0.671156 Loss: 0.74516916\n",
            "5000 Train accuracy: 0.69809204 Loss: 0.7701614\n",
            "6000 Train accuracy: 0.6632997 Loss: 0.96140116\n",
            "7000 Train accuracy: 0.6666667 Loss: 0.9184272\n",
            "8000 Train accuracy: 0.67901236 Loss: 0.88712627\n",
            "9000 Train accuracy: 0.64646465 Loss: 0.9928084\n",
            "CV accuracy: 0.87434554\n",
            "--- 76.62873101234436 seconds ---\n"
          ],
          "name": "stdout"
        }
      ]
    },
    {
      "metadata": {
        "id": "65WZjtUE_wwv",
        "colab_type": "code",
        "colab": {}
      },
      "cell_type": "code",
      "source": [
        "from google.colab import files\n",
        "\n",
        "predictiona = np.transpose(np.array(prediction))\n",
        "predictionpd = pd.DataFrame(predictiona[0], columns=['Survived'])\n",
        "submission = pd.concat([test_set['PassengerId'], predictionpd], axis=1).to_csv('pred.csv', index=False)\n",
        "files.download('pred.csv')"
      ],
      "execution_count": 0,
      "outputs": []
    }
  ]
}