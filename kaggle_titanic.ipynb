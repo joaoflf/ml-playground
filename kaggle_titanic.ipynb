{
  "nbformat": 4,
  "nbformat_minor": 0,
  "metadata": {
    "colab": {
      "name": "kaggle-titanic.ipynb",
      "version": "0.3.2",
      "provenance": [],
      "collapsed_sections": []
    },
    "kernelspec": {
      "name": "python3",
      "display_name": "Python 3"
    },
    "accelerator": "GPU"
  },
  "cells": [
    {
      "cell_type": "markdown",
      "metadata": {
        "id": "view-in-github",
        "colab_type": "text"
      },
      "source": [
        "[View in Colaboratory](https://colab.research.google.com/github/joaoflf/ml-playground/blob/master/kaggle_titanic.ipynb)"
      ]
    },
    {
      "metadata": {
        "id": "W04ylAJxRf-o",
        "colab_type": "text"
      },
      "cell_type": "markdown",
      "source": [
        "## Titanic Kaggle Competition\n",
        "\n",
        "My attempt of this competition using deep neural networks.\n",
        "\n",
        "The best result turned out to be the current selected features, no dropout and batch training on the full training set\n",
        "\n",
        "---\n",
        "Start by importing and setting up Tensorboard"
      ]
    },
    {
      "metadata": {
        "id": "QO5mZeGzROp9",
        "colab_type": "code",
        "colab": {
          "base_uri": "https://localhost:8080/",
          "height": 86
        },
        "outputId": "e65f365a-6f24-450d-8418-5067d07fe4f6"
      },
      "cell_type": "code",
      "source": [
        "import os\n",
        "if not os.path.exists('./colab_utils'):\n",
        "  !git clone https://github.com/mixuala/colab_utils.git\n",
        "    \n",
        "import colab_utils.tboard\n",
        "import tensorflow as tf\n",
        "import pandas as pd\n",
        "import numpy as np\n",
        "import matplotlib.pyplot as plt\n",
        "from datetime import datetime\n",
        "\n",
        "now = datetime.utcnow().strftime('%Y%m%d%H%M%S')\n",
        "ROOT = %pwd\n",
        "root_log_dir = os.path.join(ROOT, 'tf_logs')\n",
        "colab_utils.tboard.launch_tensorboard( bin_dir=ROOT, log_dir=root_log_dir )"
      ],
      "execution_count": 23,
      "outputs": [
        {
          "output_type": "stream",
          "text": [
            "ngrok installed\n",
            "status: tensorboard=True, ngrok=True\n",
            "tensorboard url= https://873baa70.ngrok.io\n"
          ],
          "name": "stdout"
        },
        {
          "output_type": "execute_result",
          "data": {
            "text/plain": [
              "'https://873baa70.ngrok.io'"
            ]
          },
          "metadata": {
            "tags": []
          },
          "execution_count": 23
        }
      ]
    },
    {
      "metadata": {
        "id": "HwqIhmLQTNvF",
        "colab_type": "text"
      },
      "cell_type": "markdown",
      "source": [
        "Download and extract train and test csv files and load them into Pandas data frame\n",
        "\n"
      ]
    },
    {
      "metadata": {
        "id": "1wzKErIBTRxl",
        "colab_type": "code",
        "colab": {
          "base_uri": "https://localhost:8080/",
          "height": 593
        },
        "outputId": "63403b5d-f4e2-434d-abc9-581dde826684"
      },
      "cell_type": "code",
      "source": [
        "!rm -rf data\n",
        "if not os.path.exists('./data'):\n",
        "  !mkdir data\n",
        "  !wget -O ./data/train.csv https://www.dropbox.com/s/47sadlv7emve5i4/train.csv?raw=1\n",
        "  !wget -O ./data/test.csv https://www.dropbox.com/s/p4l8elh79agtyvw/test.csv?raw=1\n",
        "\n"
      ],
      "execution_count": 24,
      "outputs": [
        {
          "output_type": "stream",
          "text": [
            "--2018-06-14 16:58:17--  https://www.dropbox.com/s/47sadlv7emve5i4/train.csv?raw=1\n",
            "Resolving www.dropbox.com (www.dropbox.com)... 162.125.9.1, 2620:100:601f:1::a27d:901\n",
            "Connecting to www.dropbox.com (www.dropbox.com)|162.125.9.1|:443... connected.\n",
            "HTTP request sent, awaiting response... 302 Found\n",
            "Location: https://uc923480c7de21a030163d692baa.dl.dropboxusercontent.com/cd/0/inline/AI368vhq5OYaoJs9rNRMIqPGeC-VEYgVr85JwOMep1WBOdUzUCnE-3fWXMqQiUsCugLWs--3qCmRWLwHiuBsuyVrKFkEKvs5QGmcaYgheypDXCMcXHVXYt-Z95cBWStf4aqVxqjH9BoZcqlRxpG1ac5UjXV1Ew6xiXd89FGx5gJWCMf6oKef0cH1Ty2wImykThw/file [following]\n",
            "--2018-06-14 16:58:18--  https://uc923480c7de21a030163d692baa.dl.dropboxusercontent.com/cd/0/inline/AI368vhq5OYaoJs9rNRMIqPGeC-VEYgVr85JwOMep1WBOdUzUCnE-3fWXMqQiUsCugLWs--3qCmRWLwHiuBsuyVrKFkEKvs5QGmcaYgheypDXCMcXHVXYt-Z95cBWStf4aqVxqjH9BoZcqlRxpG1ac5UjXV1Ew6xiXd89FGx5gJWCMf6oKef0cH1Ty2wImykThw/file\n",
            "Resolving uc923480c7de21a030163d692baa.dl.dropboxusercontent.com (uc923480c7de21a030163d692baa.dl.dropboxusercontent.com)... 162.125.9.6, 2620:100:6022:6::a27d:4206\n",
            "Connecting to uc923480c7de21a030163d692baa.dl.dropboxusercontent.com (uc923480c7de21a030163d692baa.dl.dropboxusercontent.com)|162.125.9.6|:443... connected.\n",
            "HTTP request sent, awaiting response... 200 OK\n",
            "Length: 61194 (60K) [text/plain]\n",
            "Saving to: ‘./data/train.csv’\n",
            "\n",
            "./data/train.csv    100%[===================>]  59.76K  --.-KB/s    in 0.04s   \n",
            "\n",
            "2018-06-14 16:58:18 (1.66 MB/s) - ‘./data/train.csv’ saved [61194/61194]\n",
            "\n",
            "--2018-06-14 16:58:19--  https://www.dropbox.com/s/p4l8elh79agtyvw/test.csv?raw=1\n",
            "Resolving www.dropbox.com (www.dropbox.com)... 162.125.9.1, 2620:100:601f:1::a27d:901\n",
            "Connecting to www.dropbox.com (www.dropbox.com)|162.125.9.1|:443... connected.\n",
            "HTTP request sent, awaiting response... 302 Found\n",
            "Location: https://uc2b5fa7b42ce1d473ae00be9852.dl.dropboxusercontent.com/cd/0/inline/AI1ikxkmCBCHMXOuvuwsSiieefYC5qGz3GOGaux8FQtNpQSXuHW3TOAufJOzel-7B5KIVvhNKd4I8e0mBlBMSWyLyOMkl_OJGVb1ZkcsF-Q0X5mqGtvQR2QwTDF3oNgV5de-dnuONDaJcf23vLpcCsKgslBKmEqJvnFWkGWTu79J1Gyy8YVLkP3s3llRWHkZtBE/file [following]\n",
            "--2018-06-14 16:58:19--  https://uc2b5fa7b42ce1d473ae00be9852.dl.dropboxusercontent.com/cd/0/inline/AI1ikxkmCBCHMXOuvuwsSiieefYC5qGz3GOGaux8FQtNpQSXuHW3TOAufJOzel-7B5KIVvhNKd4I8e0mBlBMSWyLyOMkl_OJGVb1ZkcsF-Q0X5mqGtvQR2QwTDF3oNgV5de-dnuONDaJcf23vLpcCsKgslBKmEqJvnFWkGWTu79J1Gyy8YVLkP3s3llRWHkZtBE/file\n",
            "Resolving uc2b5fa7b42ce1d473ae00be9852.dl.dropboxusercontent.com (uc2b5fa7b42ce1d473ae00be9852.dl.dropboxusercontent.com)... 162.125.9.6, 2620:100:601f:6::a27d:906\n",
            "Connecting to uc2b5fa7b42ce1d473ae00be9852.dl.dropboxusercontent.com (uc2b5fa7b42ce1d473ae00be9852.dl.dropboxusercontent.com)|162.125.9.6|:443... connected.\n",
            "HTTP request sent, awaiting response... 200 OK\n",
            "Length: 28629 (28K) [text/plain]\n",
            "Saving to: ‘./data/test.csv’\n",
            "\n",
            "./data/test.csv     100%[===================>]  27.96K  --.-KB/s    in 0.02s   \n",
            "\n",
            "2018-06-14 16:58:20 (1.59 MB/s) - ‘./data/test.csv’ saved [28629/28629]\n",
            "\n"
          ],
          "name": "stdout"
        }
      ]
    },
    {
      "metadata": {
        "id": "q0bIpyksZwbD",
        "colab_type": "text"
      },
      "cell_type": "markdown",
      "source": [
        "Load and split dataset"
      ]
    },
    {
      "metadata": {
        "id": "zqeV9KXcZshF",
        "colab_type": "code",
        "colab": {
          "base_uri": "https://localhost:8080/",
          "height": 206
        },
        "outputId": "0f5c9d9a-8406-49f1-a322-083ab9285d7f"
      },
      "cell_type": "code",
      "source": [
        "train_set = pd.read_csv('./data/train.csv')\n",
        "test_set = pd.read_csv('./data/test.csv')\n",
        "train_set.reindex(np.random.permutation(train_set.index))\n",
        "train_cv_ratio = 0.7\n",
        "train_size = int(train_set.shape[0] * train_cv_ratio)\n",
        "cv_size = train_set.shape[0] - train_cv_ratio\n",
        "cv_set = train_set[train_size:]\n",
        "train_set = train_set[:train_size]\n",
        "\n",
        "train_set.head()"
      ],
      "execution_count": 82,
      "outputs": [
        {
          "output_type": "execute_result",
          "data": {
            "text/html": [
              "<div>\n",
              "<style scoped>\n",
              "    .dataframe tbody tr th:only-of-type {\n",
              "        vertical-align: middle;\n",
              "    }\n",
              "\n",
              "    .dataframe tbody tr th {\n",
              "        vertical-align: top;\n",
              "    }\n",
              "\n",
              "    .dataframe thead th {\n",
              "        text-align: right;\n",
              "    }\n",
              "</style>\n",
              "<table border=\"1\" class=\"dataframe\">\n",
              "  <thead>\n",
              "    <tr style=\"text-align: right;\">\n",
              "      <th></th>\n",
              "      <th>PassengerId</th>\n",
              "      <th>Survived</th>\n",
              "      <th>Pclass</th>\n",
              "      <th>Name</th>\n",
              "      <th>Sex</th>\n",
              "      <th>Age</th>\n",
              "      <th>SibSp</th>\n",
              "      <th>Parch</th>\n",
              "      <th>Ticket</th>\n",
              "      <th>Fare</th>\n",
              "      <th>Cabin</th>\n",
              "      <th>Embarked</th>\n",
              "    </tr>\n",
              "  </thead>\n",
              "  <tbody>\n",
              "    <tr>\n",
              "      <th>0</th>\n",
              "      <td>1</td>\n",
              "      <td>0</td>\n",
              "      <td>3</td>\n",
              "      <td>Braund, Mr. Owen Harris</td>\n",
              "      <td>male</td>\n",
              "      <td>22.0</td>\n",
              "      <td>1</td>\n",
              "      <td>0</td>\n",
              "      <td>A/5 21171</td>\n",
              "      <td>7.2500</td>\n",
              "      <td>NaN</td>\n",
              "      <td>S</td>\n",
              "    </tr>\n",
              "    <tr>\n",
              "      <th>1</th>\n",
              "      <td>2</td>\n",
              "      <td>1</td>\n",
              "      <td>1</td>\n",
              "      <td>Cumings, Mrs. John Bradley (Florence Briggs Th...</td>\n",
              "      <td>female</td>\n",
              "      <td>38.0</td>\n",
              "      <td>1</td>\n",
              "      <td>0</td>\n",
              "      <td>PC 17599</td>\n",
              "      <td>71.2833</td>\n",
              "      <td>C85</td>\n",
              "      <td>C</td>\n",
              "    </tr>\n",
              "    <tr>\n",
              "      <th>2</th>\n",
              "      <td>3</td>\n",
              "      <td>1</td>\n",
              "      <td>3</td>\n",
              "      <td>Heikkinen, Miss. Laina</td>\n",
              "      <td>female</td>\n",
              "      <td>26.0</td>\n",
              "      <td>0</td>\n",
              "      <td>0</td>\n",
              "      <td>STON/O2. 3101282</td>\n",
              "      <td>7.9250</td>\n",
              "      <td>NaN</td>\n",
              "      <td>S</td>\n",
              "    </tr>\n",
              "    <tr>\n",
              "      <th>3</th>\n",
              "      <td>4</td>\n",
              "      <td>1</td>\n",
              "      <td>1</td>\n",
              "      <td>Futrelle, Mrs. Jacques Heath (Lily May Peel)</td>\n",
              "      <td>female</td>\n",
              "      <td>35.0</td>\n",
              "      <td>1</td>\n",
              "      <td>0</td>\n",
              "      <td>113803</td>\n",
              "      <td>53.1000</td>\n",
              "      <td>C123</td>\n",
              "      <td>S</td>\n",
              "    </tr>\n",
              "    <tr>\n",
              "      <th>4</th>\n",
              "      <td>5</td>\n",
              "      <td>0</td>\n",
              "      <td>3</td>\n",
              "      <td>Allen, Mr. William Henry</td>\n",
              "      <td>male</td>\n",
              "      <td>35.0</td>\n",
              "      <td>0</td>\n",
              "      <td>0</td>\n",
              "      <td>373450</td>\n",
              "      <td>8.0500</td>\n",
              "      <td>NaN</td>\n",
              "      <td>S</td>\n",
              "    </tr>\n",
              "  </tbody>\n",
              "</table>\n",
              "</div>"
            ],
            "text/plain": [
              "   PassengerId  Survived  Pclass  \\\n",
              "0            1         0       3   \n",
              "1            2         1       1   \n",
              "2            3         1       3   \n",
              "3            4         1       1   \n",
              "4            5         0       3   \n",
              "\n",
              "                                                Name     Sex   Age  SibSp  \\\n",
              "0                            Braund, Mr. Owen Harris    male  22.0      1   \n",
              "1  Cumings, Mrs. John Bradley (Florence Briggs Th...  female  38.0      1   \n",
              "2                             Heikkinen, Miss. Laina  female  26.0      0   \n",
              "3       Futrelle, Mrs. Jacques Heath (Lily May Peel)  female  35.0      1   \n",
              "4                           Allen, Mr. William Henry    male  35.0      0   \n",
              "\n",
              "   Parch            Ticket     Fare Cabin Embarked  \n",
              "0      0         A/5 21171   7.2500   NaN        S  \n",
              "1      0          PC 17599  71.2833   C85        C  \n",
              "2      0  STON/O2. 3101282   7.9250   NaN        S  \n",
              "3      0            113803  53.1000  C123        S  \n",
              "4      0            373450   8.0500   NaN        S  "
            ]
          },
          "metadata": {
            "tags": []
          },
          "execution_count": 82
        }
      ]
    },
    {
      "metadata": {
        "id": "rU5kmAOtZDb3",
        "colab_type": "text"
      },
      "cell_type": "markdown",
      "source": [
        "Build a feature pipeline to:\n",
        "\n",
        "\n",
        "1.   Group age values in categories VS having discrete values\n",
        "2.   Compute family size by adding siblings and children§\n",
        "3.   One-hot encode categories"
      ]
    },
    {
      "metadata": {
        "id": "gnKJVmBpajwN",
        "colab_type": "code",
        "colab": {}
      },
      "cell_type": "code",
      "source": [
        "age_points = [-1,0,5,18,60,100]\n",
        "age_labels = [\"Missing\",\"Infant\",\"Child\",\"Adult\",\"Senior\"]\n",
        "features_to_encode = ['Age_categories', 'Sex', 'Pclass', 'Embarked']\n",
        "important_features = ['Single_Male', 'Age_categories_Missing', 'Age_categories_Infant', 'Age_categories_Child', 'Age_categories_Adult',\t'Age_categories_Senior', 'Sex_female', 'Sex_male', 'Pclass_1', 'Pclass_2', 'Pclass_3', 'FamilySize']\n",
        "\n",
        "def group_feature_values(df,feature,cut_points,label_names):\n",
        "  df[feature] = df[feature].fillna(-0.5)\n",
        "  df[feature+'_categories'] = pd.cut(df[feature],cut_points,labels=label_names)\n",
        "  return df\n",
        "\n",
        "def compute_family_size(df):\n",
        "  df['SibSp'].fillna(-0.5)\n",
        "  df['Parch'].fillna(-0.5)\n",
        "  df['FamilySize'] = df['SibSp'] + df['Parch']\n",
        "  return df\n",
        "\n",
        "def compute_women_parch(df):\n",
        "  df['Women_Children'] = np.where(np.logical_and(df['Sex'] == 'female', df['Parch'] > 0), 1, 0 )\n",
        "  return df\n",
        "\n",
        "def compute_women_sibsp(df):\n",
        "  df['Women_Spouse'] = np.where(np.logical_and(df['Sex'] == 'female', df['SibSp'] > 0), 1, 0 )\n",
        "  return df\n",
        "\n",
        "def compute_single_males(df):\n",
        "  df['Single_Male'] = np.where(np.logical_and(np.logical_and(df['Sex'] == 'male', df['SibSp'] == 0), df['Parch'] == 0), 1, 0 )\n",
        "  return df\n",
        "\n",
        "def one_hot_encode(df, features):\n",
        "  for feature in features:\n",
        "    dummies = pd.get_dummies(df[feature], prefix=feature, drop_first=False)\n",
        "    df = pd.concat([df, dummies], axis=1)\n",
        "  return df\n",
        "\n",
        "def feature_pipeline(df):\n",
        "  df = group_feature_values(df,'Age' ,age_points,age_labels)\n",
        "  df = compute_family_size(df)\n",
        "  df = compute_women_parch(df)\n",
        "  df = compute_women_sibsp(df)\n",
        "  df = compute_single_males(df)\n",
        "  df = one_hot_encode(df, features_to_encode)\n",
        "  return df\n",
        "\n",
        "def get_training_data(df):\n",
        "  return df[important_features].values\n",
        "\n",
        "def get_labels(df):\n",
        "  return np.expand_dims(df['Survived'], axis= 1)\n"
      ],
      "execution_count": 0,
      "outputs": []
    },
    {
      "metadata": {
        "id": "NIWu90EI4hvA",
        "colab_type": "text"
      },
      "cell_type": "markdown",
      "source": [
        "Utils for training"
      ]
    },
    {
      "metadata": {
        "id": "ZzdC7Yza4maM",
        "colab_type": "code",
        "colab": {}
      },
      "cell_type": "code",
      "source": [
        "def get_training_data(df):\n",
        "  return df[important_features].values\n",
        "\n",
        "def get_labels(df):\n",
        "  return np.expand_dims(df['Survived'], axis= 1)"
      ],
      "execution_count": 0,
      "outputs": []
    },
    {
      "metadata": {
        "id": "J5tNxJwYWFgl",
        "colab_type": "text"
      },
      "cell_type": "markdown",
      "source": [
        "Analyse features' relationship with survival"
      ]
    },
    {
      "metadata": {
        "id": "dahouI4hm4S-",
        "colab_type": "code",
        "colab": {
          "base_uri": "https://localhost:8080/",
          "height": 2113
        },
        "outputId": "64013169-d972-4550-b9c5-f8bb9efd6512"
      },
      "cell_type": "code",
      "source": [
        "def survived_ratio(df, feature):\n",
        "  pivot = train.pivot_table(index=feature ,values='Survived')\n",
        "  pivot.plot.bar()\n",
        "  plt.show()\n",
        "\n",
        "  \n",
        "train = feature_pipeline(train_set)\n",
        "\n",
        "survived_ratio(train, 'Single_Male')\n",
        "survived_ratio(train, 'Women_Children')\n",
        "survived_ratio(train, 'Women_Spouse')\n",
        "survived_ratio(train, 'Age_categories')\n",
        "survived_ratio(train, 'Pclass')\n",
        "survived_ratio(train, 'Sex')"
      ],
      "execution_count": 90,
      "outputs": [
        {
          "output_type": "display_data",
          "data": {
            "image/png": "[encoded data removed]",
            "text/plain": [
              "<matplotlib.figure.Figure at 0x7f7684f15da0>"
            ]
          },
          "metadata": {
            "tags": []
          }
        },
        {
          "output_type": "display_data",
          "data": {
            "image/png": "[encoded data removed]",
            "text/plain": [
              "<matplotlib.figure.Figure at 0x7f76843d2160>"
            ]
          },
          "metadata": {
            "tags": []
          }
        },
        {
          "output_type": "display_data",
          "data": {
            "image/png": "[encoded data removed]",
            "text/plain": [
              "<matplotlib.figure.Figure at 0x7f7684fc8e80>"
            ]
          },
          "metadata": {
            "tags": []
          }
        },
        {
          "output_type": "display_data",
          "data": {
            "image/png": "[encoded data removed]",
            "text/plain": [
              "<matplotlib.figure.Figure at 0x7f7684e1fd30>"
            ]
          },
          "metadata": {
            "tags": []
          }
        },
        {
          "output_type": "display_data",
          "data": {
            "image/png": "[encoded data removed]",
            "text/plain": [
              "<matplotlib.figure.Figure at 0x7f76532f5390>"
            ]
          },
          "metadata": {
            "tags": []
          }
        },
        {
          "output_type": "display_data",
          "data": {
            "image/png": "[encoded data removed]",
            "text/plain": [
              "<matplotlib.figure.Figure at 0x7f7684e3fd68>"
            ]
          },
          "metadata": {
            "tags": []
          }
        }
      ]
    },
    {
      "metadata": {
        "id": "0QkahPw2dwb6",
        "colab_type": "text"
      },
      "cell_type": "markdown",
      "source": [
        "Build neural network model"
      ]
    },
    {
      "metadata": {
        "id": "bmUDIGDidyPf",
        "colab_type": "code",
        "colab": {}
      },
      "cell_type": "code",
      "source": [
        "tf.reset_default_graph()\n",
        "\n",
        "learning_rate = 0.0001\n",
        "momentum = 0.95\n",
        "no_features = len(important_features)\n",
        "\n",
        "X = tf.placeholder(tf.float32, shape= [None, no_features])\n",
        "y = tf.placeholder(tf.int32, shape= [None, 1])\n",
        "\n",
        "he_init = tf.contrib.layers.variance_scaling_initializer()\n",
        "regularizer = tf.contrib.layers.l2_regularizer(scale=0.1)\n",
        "training = tf.placeholder_with_default(False, shape=(), name='training')\n",
        "dropout_rate = 0.3\n",
        "\n",
        "with tf.name_scope('network'):\n",
        "  dense_1 = tf.layers.dropout(tf.contrib.layers.batch_norm(tf.layers.dense(X, 100, activation=tf.nn.relu, kernel_initializer=he_init, kernel_regularizer=regularizer, name='dense_1')),dropout_rate, training=training)\n",
        "  dense_2 = tf.layers.dropout(tf.contrib.layers.batch_norm(tf.layers.dense(dense_1, 100, activation=tf.nn.relu, kernel_initializer=he_init,  kernel_regularizer=regularizer, name='dense_2')),dropout_rate, training=training)\n",
        "  dense_3 = tf.layers.dropout(tf.contrib.layers.batch_norm(tf.layers.dense(dense_2, 50, activation=tf.nn.relu, kernel_initializer=he_init,  kernel_regularizer=regularizer, name='dense_3')),dropout_rate, training=training)\n",
        "  dense_4 = tf.layers.dropout(tf.contrib.layers.batch_norm(tf.layers.dense(dense_3, 10, activation=tf.nn.relu, kernel_initializer=he_init,  kernel_regularizer=regularizer, name='dense_4')),dropout_rate, training=training)\n",
        "\n",
        "  logits = tf.layers.dense(dense_2, 1, name='logits', kernel_initializer=he_init)\n",
        "\n",
        "  y_prob = tf.nn.sigmoid(logits)\n",
        "  y_pred = tf.cast(tf.greater_equal(logits, 0), tf.int32)\n",
        "\n",
        "with tf.name_scope('loss'):\n",
        "  y_as_float = tf.cast(y, tf.float32)\n",
        "  xentropy = tf.nn.sigmoid_cross_entropy_with_logits(labels=y_as_float, logits=logits)\n",
        "  loss = tf.reduce_mean(xentropy, name='loss')\n",
        "\n",
        "with tf.name_scope('train'):\n",
        "  optimizer = tf.train.AdamOptimizer(learning_rate)\n",
        "  training_op = optimizer.minimize(loss)\n",
        "\n",
        "with tf.name_scope('eval'):\n",
        "  y_pred_correct = tf.equal(y_pred, y)\n",
        "  accuracy = tf.reduce_mean(tf.cast(y_pred_correct, tf.float32), name='accuracy')\n",
        "\n",
        "\n",
        "loss_summary = tf.summary.scalar('Loss', loss)\n",
        "init = tf.global_variables_initializer()\n",
        "saver = tf.train.Saver()"
      ],
      "execution_count": 0,
      "outputs": []
    },
    {
      "metadata": {
        "id": "5CP64AJ7grs8",
        "colab_type": "code",
        "colab": {
          "base_uri": "https://localhost:8080/",
          "height": 208
        },
        "outputId": "228a4526-db3e-4129-f0a8-a86f17330c3e"
      },
      "cell_type": "code",
      "source": [
        "import time\n",
        "now = datetime.utcnow().strftime(\"%Y%m%d%H%M%S\")\n",
        "logdir = \"{}/run-{}/\".format(root_log_dir, now)\n",
        "file_writer = tf.summary.FileWriter(logdir, tf.get_default_graph())\n",
        "\n",
        "train = feature_pipeline(train_set)\n",
        "cv = feature_pipeline(cv_set)\n",
        "test = feature_pipeline(test_set)\n",
        "\n",
        "X_train, y_train = get_training_data(train), get_labels(train)\n",
        "X_cv, y_cv = get_training_data(cv), get_labels(cv)\n",
        "X_test = get_training_data(test)\n",
        "\n",
        "n_epochs = 10000\n",
        "batch_size = 128\n",
        "batch_step = 0\n",
        "\n",
        "start_time = time.time()\n",
        "\n",
        "with tf.Session() as sess:\n",
        "  init.run()\n",
        "  for epoch in range(n_epochs):\n",
        "    idx = np.random.permutation(len(X_train))\n",
        "    for indices in np.array_split(idx, len(idx) // batch_size):\n",
        "      X_batch, y_batch = X_train[indices], y_train[indices]\n",
        "      sess.run(training_op, feed_dict={X: X_batch, y: y_batch, training:True})\n",
        "      summary_str, acc_train, loss_str = sess.run([loss_summary, accuracy, loss], feed_dict={X: X_batch, y: y_batch, training:True})\n",
        "      file_writer.add_summary(summary_str,batch_step)\n",
        "    \n",
        "    batch_step+=1\n",
        "    if epoch % 1000 == 0:\n",
        "      print(epoch, \"Train accuracy:\", acc_train, 'Loss:', loss_str)\n",
        "\n",
        "  acc_test = accuracy.eval(feed_dict={X: X_cv, y: y_cv})\n",
        "  print(\"CV accuracy:\", acc_test)\n",
        "  \n",
        "  prediction = sess.run([y_pred], feed_dict={X: X_test, training:False})\n",
        " \n",
        "  file_writer.close()\n",
        "  sess.close()\n",
        "  print(\"--- %s seconds ---\" % (time.time() - start_time))"
      ],
      "execution_count": 100,
      "outputs": [
        {
          "output_type": "stream",
          "text": [
            "0 Train accuracy: 0.6418919 Loss: 0.635719\n",
            "1000 Train accuracy: 0.777027 Loss: 0.49695885\n",
            "2000 Train accuracy: 0.8716216 Loss: 0.32925123\n",
            "3000 Train accuracy: 0.8243243 Loss: 0.39185858\n",
            "4000 Train accuracy: 0.8175676 Loss: 0.34675282\n",
            "5000 Train accuracy: 0.8108108 Loss: 0.36324203\n",
            "6000 Train accuracy: 0.8716216 Loss: 0.3182923\n",
            "7000 Train accuracy: 0.8310811 Loss: 0.37944368\n",
            "8000 Train accuracy: 0.8040541 Loss: 0.41574204\n",
            "9000 Train accuracy: 0.8648649 Loss: 0.3493451\n",
            "--- 310.92419385910034 seconds ---\n"
          ],
          "name": "stdout"
        }
      ]
    },
    {
      "metadata": {
        "id": "cqEAexXRhGZu",
        "colab_type": "text"
      },
      "cell_type": "markdown",
      "source": [
        "Train Model"
      ]
    },
    {
      "metadata": {
        "id": "65WZjtUE_wwv",
        "colab_type": "code",
        "colab": {}
      },
      "cell_type": "code",
      "source": [
        "from google.colab import files\n",
        "\n",
        "predictiona = np.transpose(np.array(prediction))\n",
        "predictionpd = pd.DataFrame(predictiona[0], columns=['Survived'])\n",
        "filename = 'full_set_0_drop'\n",
        "submission = pd.concat([test_set['PassengerId'], predictionpd], axis=1).to_csv(filename, index=False)\n",
        "files.download(filename)"
      ],
      "execution_count": 0,
      "outputs": []
    }
  ]
}